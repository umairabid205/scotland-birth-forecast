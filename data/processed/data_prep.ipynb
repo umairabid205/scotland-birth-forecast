{
 "cells": [
  {
   "cell_type": "code",
   "execution_count": 1,
   "id": "94a9dbc5",
   "metadata": {},
   "outputs": [],
   "source": [
    "import pandas as pd\n",
    "import numpy as np\n",
    "import matplotlib.pyplot as plt\n",
    "import seaborn as sns"
   ]
  },
  {
   "cell_type": "code",
   "execution_count": 2,
   "id": "d8d18c44",
   "metadata": {},
   "outputs": [],
   "source": [
    "df = pd.read_excel(\"/Users/umair/Downloads/projects/project_1/data/raw/monthly-births-june-2025.xlsx\", sheet_name=\"Table_1\")"
   ]
  },
  {
   "cell_type": "code",
   "execution_count": 3,
   "id": "106a6f6f",
   "metadata": {},
   "outputs": [],
   "source": [
    "# Filter data for Jan 1998 to Dec 2022 (inclusive)\n",
    "months_order = ['January', 'February', 'March', 'April', 'May', 'June', 'July', 'August', 'September', 'October', 'November', 'December']\n",
    "df = df[df['Year'].between(1998, 2022)]\n",
    "df = df[df['Month'].isin(months_order)]\n",
    "df = df.sort_values(['Year', 'Month']).reset_index(drop=True)"
   ]
  },
  {
   "cell_type": "code",
   "execution_count": 4,
   "id": "22688789",
   "metadata": {},
   "outputs": [
    {
     "data": {
      "text/html": [
       "<div>\n",
       "<style scoped>\n",
       "    .dataframe tbody tr th:only-of-type {\n",
       "        vertical-align: middle;\n",
       "    }\n",
       "\n",
       "    .dataframe tbody tr th {\n",
       "        vertical-align: top;\n",
       "    }\n",
       "\n",
       "    .dataframe thead th {\n",
       "        text-align: right;\n",
       "    }\n",
       "</style>\n",
       "<table border=\"1\" class=\"dataframe\">\n",
       "  <thead>\n",
       "    <tr style=\"text-align: right;\">\n",
       "      <th></th>\n",
       "      <th>Year</th>\n",
       "      <th>Month</th>\n",
       "      <th>NHS Board area</th>\n",
       "      <th>Births registered</th>\n",
       "    </tr>\n",
       "  </thead>\n",
       "  <tbody>\n",
       "    <tr>\n",
       "      <th>0</th>\n",
       "      <td>1998</td>\n",
       "      <td>April</td>\n",
       "      <td>Ayrshire and Arran</td>\n",
       "      <td>366</td>\n",
       "    </tr>\n",
       "    <tr>\n",
       "      <th>1</th>\n",
       "      <td>1998</td>\n",
       "      <td>April</td>\n",
       "      <td>Borders</td>\n",
       "      <td>97</td>\n",
       "    </tr>\n",
       "    <tr>\n",
       "      <th>2</th>\n",
       "      <td>1998</td>\n",
       "      <td>April</td>\n",
       "      <td>Dumfries and Galloway</td>\n",
       "      <td>135</td>\n",
       "    </tr>\n",
       "    <tr>\n",
       "      <th>3</th>\n",
       "      <td>1998</td>\n",
       "      <td>April</td>\n",
       "      <td>Fife</td>\n",
       "      <td>311</td>\n",
       "    </tr>\n",
       "    <tr>\n",
       "      <th>4</th>\n",
       "      <td>1998</td>\n",
       "      <td>April</td>\n",
       "      <td>Forth Valley</td>\n",
       "      <td>252</td>\n",
       "    </tr>\n",
       "    <tr>\n",
       "      <th>5</th>\n",
       "      <td>1998</td>\n",
       "      <td>April</td>\n",
       "      <td>Grampian</td>\n",
       "      <td>488</td>\n",
       "    </tr>\n",
       "    <tr>\n",
       "      <th>6</th>\n",
       "      <td>1998</td>\n",
       "      <td>April</td>\n",
       "      <td>Greater Glasgow and Clyde</td>\n",
       "      <td>1105</td>\n",
       "    </tr>\n",
       "    <tr>\n",
       "      <th>7</th>\n",
       "      <td>1998</td>\n",
       "      <td>April</td>\n",
       "      <td>Highland</td>\n",
       "      <td>278</td>\n",
       "    </tr>\n",
       "    <tr>\n",
       "      <th>8</th>\n",
       "      <td>1998</td>\n",
       "      <td>April</td>\n",
       "      <td>Lanarkshire</td>\n",
       "      <td>620</td>\n",
       "    </tr>\n",
       "    <tr>\n",
       "      <th>9</th>\n",
       "      <td>1998</td>\n",
       "      <td>April</td>\n",
       "      <td>Lothian</td>\n",
       "      <td>712</td>\n",
       "    </tr>\n",
       "    <tr>\n",
       "      <th>10</th>\n",
       "      <td>1998</td>\n",
       "      <td>April</td>\n",
       "      <td>Orkney</td>\n",
       "      <td>15</td>\n",
       "    </tr>\n",
       "    <tr>\n",
       "      <th>11</th>\n",
       "      <td>1998</td>\n",
       "      <td>April</td>\n",
       "      <td>Scotland</td>\n",
       "      <td>4807</td>\n",
       "    </tr>\n",
       "    <tr>\n",
       "      <th>12</th>\n",
       "      <td>1998</td>\n",
       "      <td>April</td>\n",
       "      <td>Shetland</td>\n",
       "      <td>24</td>\n",
       "    </tr>\n",
       "    <tr>\n",
       "      <th>13</th>\n",
       "      <td>1998</td>\n",
       "      <td>April</td>\n",
       "      <td>Tayside</td>\n",
       "      <td>382</td>\n",
       "    </tr>\n",
       "    <tr>\n",
       "      <th>14</th>\n",
       "      <td>1998</td>\n",
       "      <td>April</td>\n",
       "      <td>Western Isles</td>\n",
       "      <td>22</td>\n",
       "    </tr>\n",
       "    <tr>\n",
       "      <th>15</th>\n",
       "      <td>1998</td>\n",
       "      <td>August</td>\n",
       "      <td>Ayrshire and Arran</td>\n",
       "      <td>319</td>\n",
       "    </tr>\n",
       "    <tr>\n",
       "      <th>16</th>\n",
       "      <td>1998</td>\n",
       "      <td>August</td>\n",
       "      <td>Borders</td>\n",
       "      <td>85</td>\n",
       "    </tr>\n",
       "    <tr>\n",
       "      <th>17</th>\n",
       "      <td>1998</td>\n",
       "      <td>August</td>\n",
       "      <td>Dumfries and Galloway</td>\n",
       "      <td>99</td>\n",
       "    </tr>\n",
       "    <tr>\n",
       "      <th>18</th>\n",
       "      <td>1998</td>\n",
       "      <td>August</td>\n",
       "      <td>Fife</td>\n",
       "      <td>325</td>\n",
       "    </tr>\n",
       "    <tr>\n",
       "      <th>19</th>\n",
       "      <td>1998</td>\n",
       "      <td>August</td>\n",
       "      <td>Forth Valley</td>\n",
       "      <td>264</td>\n",
       "    </tr>\n",
       "    <tr>\n",
       "      <th>20</th>\n",
       "      <td>1998</td>\n",
       "      <td>August</td>\n",
       "      <td>Grampian</td>\n",
       "      <td>536</td>\n",
       "    </tr>\n",
       "    <tr>\n",
       "      <th>21</th>\n",
       "      <td>1998</td>\n",
       "      <td>August</td>\n",
       "      <td>Greater Glasgow and Clyde</td>\n",
       "      <td>1061</td>\n",
       "    </tr>\n",
       "    <tr>\n",
       "      <th>22</th>\n",
       "      <td>1998</td>\n",
       "      <td>August</td>\n",
       "      <td>Highland</td>\n",
       "      <td>288</td>\n",
       "    </tr>\n",
       "    <tr>\n",
       "      <th>23</th>\n",
       "      <td>1998</td>\n",
       "      <td>August</td>\n",
       "      <td>Lanarkshire</td>\n",
       "      <td>621</td>\n",
       "    </tr>\n",
       "    <tr>\n",
       "      <th>24</th>\n",
       "      <td>1998</td>\n",
       "      <td>August</td>\n",
       "      <td>Lothian</td>\n",
       "      <td>778</td>\n",
       "    </tr>\n",
       "    <tr>\n",
       "      <th>25</th>\n",
       "      <td>1998</td>\n",
       "      <td>August</td>\n",
       "      <td>Orkney</td>\n",
       "      <td>20</td>\n",
       "    </tr>\n",
       "    <tr>\n",
       "      <th>26</th>\n",
       "      <td>1998</td>\n",
       "      <td>August</td>\n",
       "      <td>Scotland</td>\n",
       "      <td>4800</td>\n",
       "    </tr>\n",
       "    <tr>\n",
       "      <th>27</th>\n",
       "      <td>1998</td>\n",
       "      <td>August</td>\n",
       "      <td>Shetland</td>\n",
       "      <td>21</td>\n",
       "    </tr>\n",
       "    <tr>\n",
       "      <th>28</th>\n",
       "      <td>1998</td>\n",
       "      <td>August</td>\n",
       "      <td>Tayside</td>\n",
       "      <td>356</td>\n",
       "    </tr>\n",
       "    <tr>\n",
       "      <th>29</th>\n",
       "      <td>1998</td>\n",
       "      <td>August</td>\n",
       "      <td>Western Isles</td>\n",
       "      <td>27</td>\n",
       "    </tr>\n",
       "  </tbody>\n",
       "</table>\n",
       "</div>"
      ],
      "text/plain": [
       "    Year   Month             NHS Board area  Births registered\n",
       "0   1998   April         Ayrshire and Arran                366\n",
       "1   1998   April                    Borders                 97\n",
       "2   1998   April      Dumfries and Galloway                135\n",
       "3   1998   April                       Fife                311\n",
       "4   1998   April               Forth Valley                252\n",
       "5   1998   April                   Grampian                488\n",
       "6   1998   April  Greater Glasgow and Clyde               1105\n",
       "7   1998   April                   Highland                278\n",
       "8   1998   April                Lanarkshire                620\n",
       "9   1998   April                    Lothian                712\n",
       "10  1998   April                     Orkney                 15\n",
       "11  1998   April                   Scotland               4807\n",
       "12  1998   April                   Shetland                 24\n",
       "13  1998   April                    Tayside                382\n",
       "14  1998   April              Western Isles                 22\n",
       "15  1998  August         Ayrshire and Arran                319\n",
       "16  1998  August                    Borders                 85\n",
       "17  1998  August      Dumfries and Galloway                 99\n",
       "18  1998  August                       Fife                325\n",
       "19  1998  August               Forth Valley                264\n",
       "20  1998  August                   Grampian                536\n",
       "21  1998  August  Greater Glasgow and Clyde               1061\n",
       "22  1998  August                   Highland                288\n",
       "23  1998  August                Lanarkshire                621\n",
       "24  1998  August                    Lothian                778\n",
       "25  1998  August                     Orkney                 20\n",
       "26  1998  August                   Scotland               4800\n",
       "27  1998  August                   Shetland                 21\n",
       "28  1998  August                    Tayside                356\n",
       "29  1998  August              Western Isles                 27"
      ]
     },
     "execution_count": 4,
     "metadata": {},
     "output_type": "execute_result"
    }
   ],
   "source": [
    "df.head(30)"
   ]
  },
  {
   "cell_type": "code",
   "execution_count": 6,
   "id": "1264b129",
   "metadata": {},
   "outputs": [
    {
     "name": "stdout",
     "output_type": "stream",
     "text": [
      "<class 'pandas.core.frame.DataFrame'>\n",
      "RangeIndex: 4486 entries, 0 to 4485\n",
      "Data columns (total 4 columns):\n",
      " #   Column             Non-Null Count  Dtype \n",
      "---  ------             --------------  ----- \n",
      " 0   Year               4486 non-null   int64 \n",
      " 1   Month              4486 non-null   object\n",
      " 2   NHS Board area     4486 non-null   object\n",
      " 3   Births registered  4486 non-null   int64 \n",
      "dtypes: int64(2), object(2)\n",
      "memory usage: 140.3+ KB\n"
     ]
    }
   ],
   "source": [
    "df.info()"
   ]
  },
  {
   "cell_type": "code",
   "execution_count": 7,
   "id": "79091de5",
   "metadata": {},
   "outputs": [
    {
     "data": {
      "text/html": [
       "<div>\n",
       "<style scoped>\n",
       "    .dataframe tbody tr th:only-of-type {\n",
       "        vertical-align: middle;\n",
       "    }\n",
       "\n",
       "    .dataframe tbody tr th {\n",
       "        vertical-align: top;\n",
       "    }\n",
       "\n",
       "    .dataframe thead th {\n",
       "        text-align: right;\n",
       "    }\n",
       "</style>\n",
       "<table border=\"1\" class=\"dataframe\">\n",
       "  <thead>\n",
       "    <tr style=\"text-align: right;\">\n",
       "      <th></th>\n",
       "      <th>Year</th>\n",
       "      <th>Month</th>\n",
       "      <th>NHS Board area</th>\n",
       "      <th>Births registered</th>\n",
       "    </tr>\n",
       "  </thead>\n",
       "  <tbody>\n",
       "    <tr>\n",
       "      <th>4257</th>\n",
       "      <td>2021</td>\n",
       "      <td>May</td>\n",
       "      <td>Scotland</td>\n",
       "      <td>3554</td>\n",
       "    </tr>\n",
       "    <tr>\n",
       "      <th>1877</th>\n",
       "      <td>2008</td>\n",
       "      <td>July</td>\n",
       "      <td>Dumfries and Galloway</td>\n",
       "      <td>135</td>\n",
       "    </tr>\n",
       "    <tr>\n",
       "      <th>145</th>\n",
       "      <td>1998</td>\n",
       "      <td>November</td>\n",
       "      <td>Orkney</td>\n",
       "      <td>17</td>\n",
       "    </tr>\n",
       "    <tr>\n",
       "      <th>2748</th>\n",
       "      <td>2013</td>\n",
       "      <td>February</td>\n",
       "      <td>Fife</td>\n",
       "      <td>305</td>\n",
       "    </tr>\n",
       "    <tr>\n",
       "      <th>2199</th>\n",
       "      <td>2010</td>\n",
       "      <td>December</td>\n",
       "      <td>Lothian</td>\n",
       "      <td>882</td>\n",
       "    </tr>\n",
       "    <tr>\n",
       "      <th>803</th>\n",
       "      <td>2002</td>\n",
       "      <td>July</td>\n",
       "      <td>Lanarkshire</td>\n",
       "      <td>587</td>\n",
       "    </tr>\n",
       "    <tr>\n",
       "      <th>2593</th>\n",
       "      <td>2012</td>\n",
       "      <td>January</td>\n",
       "      <td>Tayside</td>\n",
       "      <td>380</td>\n",
       "    </tr>\n",
       "    <tr>\n",
       "      <th>1417</th>\n",
       "      <td>2005</td>\n",
       "      <td>October</td>\n",
       "      <td>Highland</td>\n",
       "      <td>261</td>\n",
       "    </tr>\n",
       "    <tr>\n",
       "      <th>1176</th>\n",
       "      <td>2004</td>\n",
       "      <td>June</td>\n",
       "      <td>Greater Glasgow and Clyde</td>\n",
       "      <td>1051</td>\n",
       "    </tr>\n",
       "    <tr>\n",
       "      <th>1250</th>\n",
       "      <td>2004</td>\n",
       "      <td>September</td>\n",
       "      <td>Grampian</td>\n",
       "      <td>472</td>\n",
       "    </tr>\n",
       "  </tbody>\n",
       "</table>\n",
       "</div>"
      ],
      "text/plain": [
       "      Year      Month             NHS Board area  Births registered\n",
       "4257  2021        May                   Scotland               3554\n",
       "1877  2008       July      Dumfries and Galloway                135\n",
       "145   1998   November                     Orkney                 17\n",
       "2748  2013   February                       Fife                305\n",
       "2199  2010   December                    Lothian                882\n",
       "803   2002       July                Lanarkshire                587\n",
       "2593  2012    January                    Tayside                380\n",
       "1417  2005    October                   Highland                261\n",
       "1176  2004       June  Greater Glasgow and Clyde               1051\n",
       "1250  2004  September                   Grampian                472"
      ]
     },
     "execution_count": 7,
     "metadata": {},
     "output_type": "execute_result"
    }
   ],
   "source": [
    "df.sample(10)"
   ]
  },
  {
   "cell_type": "code",
   "execution_count": 8,
   "id": "7372e9b4",
   "metadata": {},
   "outputs": [
    {
     "data": {
      "text/plain": [
       "count    4486.000000\n",
       "mean      604.543469\n",
       "std      1100.394941\n",
       "min         1.000000\n",
       "25%        91.000000\n",
       "50%       285.000000\n",
       "75%       562.750000\n",
       "max      9233.000000\n",
       "Name: Births registered, dtype: float64"
      ]
     },
     "execution_count": 8,
     "metadata": {},
     "output_type": "execute_result"
    }
   ],
   "source": [
    "df['Births registered'].describe()"
   ]
  },
  {
   "cell_type": "code",
   "execution_count": 9,
   "id": "92b508af",
   "metadata": {},
   "outputs": [
    {
     "name": "stderr",
     "output_type": "stream",
     "text": [
      "/var/folders/mj/m27s8rsd79779v5k025nx2qr0000gn/T/ipykernel_2468/2138161141.py:2: FutureWarning: \n",
      "\n",
      "The `ci` parameter is deprecated. Use `errorbar=None` for the same effect.\n",
      "\n",
      "  sns.barplot(x='NHS Board area', y='Births registered', data=df, ci=None, palette='tab20')\n",
      "/var/folders/mj/m27s8rsd79779v5k025nx2qr0000gn/T/ipykernel_2468/2138161141.py:2: FutureWarning: \n",
      "\n",
      "Passing `palette` without assigning `hue` is deprecated and will be removed in v0.14.0. Assign the `x` variable to `hue` and set `legend=False` for the same effect.\n",
      "\n",
      "  sns.barplot(x='NHS Board area', y='Births registered', data=df, ci=None, palette='tab20')\n"
     ]
    },
    {
     "data": {
      "image/png": "[encoded data removed]",
      "text/plain": [
       "<Figure size 2000x1000 with 1 Axes>"
      ]
     },
     "metadata": {},
     "output_type": "display_data"
    }
   ],
   "source": [
    "plt.figure(figsize=(20,10))\n",
    "sns.barplot(x='NHS Board area', y='Births registered', data=df, ci=None, palette='tab20')\n",
    "plt.title('Total Births Registered by NHS Board Area')\n",
    "plt.xlabel('NHS Board Area')\n",
    "plt.ylabel('Total Births Registered')\n",
    "plt.xticks(rotation=90)\n",
    "plt.tight_layout()\n",
    "plt.show()"
   ]
  },
  {
   "cell_type": "code",
   "execution_count": 10,
   "id": "86431666",
   "metadata": {},
   "outputs": [
    {
     "data": {
      "text/html": [
       "<div>\n",
       "<style scoped>\n",
       "    .dataframe tbody tr th:only-of-type {\n",
       "        vertical-align: middle;\n",
       "    }\n",
       "\n",
       "    .dataframe tbody tr th {\n",
       "        vertical-align: top;\n",
       "    }\n",
       "\n",
       "    .dataframe thead th {\n",
       "        text-align: right;\n",
       "    }\n",
       "</style>\n",
       "<table border=\"1\" class=\"dataframe\">\n",
       "  <thead>\n",
       "    <tr style=\"text-align: right;\">\n",
       "      <th></th>\n",
       "      <th>Year</th>\n",
       "      <th>Month</th>\n",
       "      <th>NHS Board area</th>\n",
       "      <th>Births registered</th>\n",
       "    </tr>\n",
       "  </thead>\n",
       "  <tbody>\n",
       "    <tr>\n",
       "      <th>0</th>\n",
       "      <td>1998</td>\n",
       "      <td>April</td>\n",
       "      <td>Ayrshire and Arran</td>\n",
       "      <td>366</td>\n",
       "    </tr>\n",
       "    <tr>\n",
       "      <th>1</th>\n",
       "      <td>1998</td>\n",
       "      <td>April</td>\n",
       "      <td>Borders</td>\n",
       "      <td>97</td>\n",
       "    </tr>\n",
       "    <tr>\n",
       "      <th>2</th>\n",
       "      <td>1998</td>\n",
       "      <td>April</td>\n",
       "      <td>Dumfries and Galloway</td>\n",
       "      <td>135</td>\n",
       "    </tr>\n",
       "    <tr>\n",
       "      <th>3</th>\n",
       "      <td>1998</td>\n",
       "      <td>April</td>\n",
       "      <td>Fife</td>\n",
       "      <td>311</td>\n",
       "    </tr>\n",
       "    <tr>\n",
       "      <th>4</th>\n",
       "      <td>1998</td>\n",
       "      <td>April</td>\n",
       "      <td>Forth Valley</td>\n",
       "      <td>252</td>\n",
       "    </tr>\n",
       "  </tbody>\n",
       "</table>\n",
       "</div>"
      ],
      "text/plain": [
       "   Year  Month         NHS Board area  Births registered\n",
       "0  1998  April     Ayrshire and Arran                366\n",
       "1  1998  April                Borders                 97\n",
       "2  1998  April  Dumfries and Galloway                135\n",
       "3  1998  April                   Fife                311\n",
       "4  1998  April           Forth Valley                252"
      ]
     },
     "execution_count": 10,
     "metadata": {},
     "output_type": "execute_result"
    }
   ],
   "source": [
    "# Remove Scotland aggregate row, keep only NHS Board areas\n",
    "df= df[df['NHS Board area'] != 'Scotland']\n",
    "df.head()"
   ]
  },
  {
   "cell_type": "code",
   "execution_count": null,
   "id": "febd3390",
   "metadata": {},
   "outputs": [],
   "source": [
    "df['Births registered'].describe()"
   ]
  },
  {
   "cell_type": "code",
   "execution_count": null,
   "id": "34818951",
   "metadata": {},
   "outputs": [],
   "source": [
    "plt.figure(figsize=(20,10))\n",
    "sns.barplot(x='NHS Board area', y='Births registered', data=df, ci=None, palette='tab20')\n",
    "plt.title('Total Births Registered by NHS Board Area')\n",
    "plt.xlabel('NHS Board Area')\n",
    "plt.ylabel('Total Births Registered')\n",
    "plt.xticks(rotation=90)\n",
    "plt.tight_layout()"
   ]
  },
  {
   "cell_type": "code",
   "execution_count": null,
   "id": "b7ec540c",
   "metadata": {},
   "outputs": [],
   "source": [
    "# Histogram of total births registered by NHS Board area (excluding Scotland)\n",
    "plt.figure(figsize=(10, 5))\n",
    "sns.histplot(x=df['Births registered'], bins=30, kde=True, color='skyblue')\n",
    "plt.title('Histogram of Total Births Registered (Excluding Scotland)')\n",
    "plt.xlabel('Total Births Registered')\n",
    "plt.ylabel('Frequency')\n",
    "plt.tight_layout()\n",
    "plt.show()"
   ]
  },
  {
   "cell_type": "code",
   "execution_count": null,
   "id": "5c142783",
   "metadata": {},
   "outputs": [],
   "source": [
    "# Boxplot of total births registered by NHS Board area (excluding Scotland)\n",
    "plt.figure(figsize=(8, 2))\n",
    "sns.boxplot(x=df['Births registered'], color='orange')\n",
    "plt.title('Boxplot of Total Births Registered (Excluding Scotland)')\n",
    "plt.xlabel('Total Births Registered')\n",
    "plt.tight_layout()\n",
    "plt.show()"
   ]
  },
  {
   "cell_type": "code",
   "execution_count": null,
   "id": "189930ee",
   "metadata": {},
   "outputs": [],
   "source": [
    "# IQR for outlier removal\n",
    "Q1 = df['Births registered'].quantile(0.25)\n",
    "Q3 = df['Births registered'].quantile(0.75)\n",
    "IQR = Q3 - Q1\n",
    "lower_bound = Q1 - 1.5 * IQR\n",
    "upper_bound = Q3 + 1.5 * IQR\n",
    "print(f\"Lower Bound: {lower_bound}, Upper Bound: {upper_bound}\")\n",
    "df = df[(df['Births registered'] >= lower_bound) & (df['Births registered'] <= upper_bound)]"
   ]
  },
  {
   "cell_type": "code",
   "execution_count": null,
   "id": "899fbe17",
   "metadata": {},
   "outputs": [],
   "source": [
    "# Boxplot of total births registered by NHS Board area (excluding Scotland)\n",
    "plt.figure(figsize=(8, 2))\n",
    "sns.boxplot(x=df['Births registered'], color='orange')\n",
    "plt.title('Boxplot of Total Births Registered (Excluding Scotland)')\n",
    "plt.xlabel('Total Births Registered')\n",
    "plt.tight_layout()\n",
    "plt.show()"
   ]
  },
  {
   "cell_type": "code",
   "execution_count": null,
   "id": "899fbe17",
   "metadata": {},
   "outputs": [],
   "source": [
    "df['Births registered'] = np.log1p(df['Births registered'])"
   ]
  },
  {
   "cell_type": "code",
   "execution_count": null,
   "id": "6170b4ee",
   "metadata": {},
   "outputs": [],
   "source": [
    "df['Births registered'].describe()"
   ]
  },
  {
   "cell_type": "code",
   "execution_count": null,
   "id": "bcf82d88",
   "metadata": {},
   "outputs": [],
   "source": [
    "df.head()"
   ]
  },
  {
   "cell_type": "code",
   "execution_count": null,
   "id": "c3d7dd2a",
   "metadata": {},
   "outputs": [],
   "source": [
    "# Integer encoding for Month (January=1, ..., December=12)\n",
    "months_order = ['January', 'February', 'March', 'April', 'May', 'June', 'July', 'August', 'September', 'October', 'November', 'December']\n",
    "df['Month'] = pd.Categorical(df['Month'], categories=months_order, ordered=True)\n",
    "df['Month_num'] = df['Month'].cat.codes + 1\n",
    "\n",
    "# Integer encoding for NHS Board area\n",
    "df['NHS_Board_area_code'] = df['NHS Board area'].astype('category').cat.codes"
   ]
  },
  {
   "cell_type": "code",
   "execution_count": null,
   "id": "5f41126f",
   "metadata": {},
   "outputs": [],
   "source": [
    "df.head()"
   ]
  },
  {
   "cell_type": "code",
   "execution_count": null,
   "id": "57a78684",
   "metadata": {},
   "outputs": [],
   "source": [
    "df = df.drop(columns=['NHS Board area', 'Month'])"
   ]
  },
  {
   "cell_type": "code",
   "execution_count": null,
   "id": "b73435e8",
   "metadata": {},
   "outputs": [],
   "source": [
    "df.head()"
   ]
  },
  {
   "cell_type": "code",
   "execution_count": null,
   "id": "605677a0",
   "metadata": {},
   "outputs": [],
   "source": [
    "# Cyclical encoding for month-of-year\n",
    "df['Month_sin'] = np.sin(2 * np.pi * df['Month_num'] / 12)\n",
    "df['Month_cos'] = np.cos(2 * np.pi * df['Month_num'] / 12)\n",
    "\n",
    "# Normalize year to [0, 1] for year-of-series embedding\n",
    "df['Year_norm'] = (df['Year'] - df['Year'].min()) / (df['Year'].max() - df['Year'].min())"
   ]
  },
  {
   "cell_type": "code",
   "execution_count": null,
   "id": "ad6124e1",
   "metadata": {},
   "outputs": [],
   "source": [
    "df.sample(10)"
   ]
  },
  {
   "cell_type": "code",
   "execution_count": null,
   "id": "17dc3280",
   "metadata": {},
   "outputs": [],
   "source": [
    "df.tail()"
   ]
  },
  {
   "cell_type": "code",
   "execution_count": null,
   "id": "1fc02d63",
   "metadata": {},
   "outputs": [],
   "source": [
    "# Split into training (1998–2018), validation (2019–2020), and test (2021–2022) sets, keeping NHS Board area info\n",
    "train = df[(df['Year'] >= 1998) & (df['Year'] <= 2018)].reset_index(drop=True)\n",
    "val = df[(df['Year'] >= 2019) & (df['Year'] <= 2020)].reset_index(drop=True)\n",
    "test = df[(df['Year'] >= 2021) & (df['Year'] <= 2022)].reset_index(drop=True)"
   ]
  },
  {
   "cell_type": "code",
   "execution_count": null,
   "id": "1dc3c26f",
   "metadata": {},
   "outputs": [],
   "source": [
    "df = df.drop(columns=['Year'])"
   ]
  },
  {
   "cell_type": "code",
   "execution_count": null,
   "id": "1d2e030e",
   "metadata": {},
   "outputs": [],
   "source": [
    "df.head()"
   ]
  },
  {
   "cell_type": "code",
   "execution_count": null,
   "id": "317e64b1",
   "metadata": {},
   "outputs": [],
   "source": [
    "# Save the splits in .parquet format, including NHS Board area info\n",
    "train.to_parquet(\"train.parquet\", index=False)\n",
    "val.to_parquet(\"val.parquet\", index=False)\n",
    "test.to_parquet(\"test.parquet\", index=False)"
   ]
  }
 ],
 "metadata": {
  "kernelspec": {
   "display_name": "base",
   "language": "python",
   "name": "python3"
  },
  "language_info": {
   "codemirror_mode": {
    "name": "ipython",
    "version": 3
   },
   "file_extension": ".py",
   "mimetype": "text/x-python",
   "name": "python",
   "nbconvert_exporter": "python",
   "pygments_lexer": "ipython3",
   "version": "3.12.7"
  }
 },
 "nbformat": 4,
 "nbformat_minor": 5
}
